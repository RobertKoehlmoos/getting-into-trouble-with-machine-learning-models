{
  "nbformat": 4,
  "nbformat_minor": 0,
  "metadata": {
    "colab": {
      "provenance": [],
      "machine_shape": "hm",
      "gpuType": "V100"
    },
    "kernelspec": {
      "name": "python3",
      "display_name": "Python 3"
    },
    "language_info": {
      "name": "python"
    },
    "accelerator": "GPU"
  },
  "cells": [
    {
      "cell_type": "markdown",
      "source": [
        "# Generating Speech\n",
        "\n",
        "In the below few lines we'll setup and run speech generation software."
      ],
      "metadata": {
        "id": "1Owv5L3xj7Bw"
      }
    },
    {
      "cell_type": "code",
      "execution_count": null,
      "metadata": {
        "id": "U869V0iQP7Ol"
      },
      "outputs": [],
      "source": [
        "!git clone https://github.com/neonbjb/tortoise-tts.git"
      ]
    },
    {
      "cell_type": "code",
      "source": [
        "%cd tortoise-tts"
      ],
      "metadata": {
        "id": "u1GE3H2WU4yI"
      },
      "execution_count": null,
      "outputs": []
    },
    {
      "cell_type": "code",
      "source": [
        "!python setup.py install"
      ],
      "metadata": {
        "id": "n8yaR_bmVRBz"
      },
      "execution_count": null,
      "outputs": []
    },
    {
      "cell_type": "code",
      "source": [
        "!python tortoise/do_tts.py --text \"I'm going to speak this\" --voice random --preset fast"
      ],
      "metadata": {
        "id": "CA-6ITMRVS1x"
      },
      "execution_count": null,
      "outputs": []
    },
    {
      "cell_type": "markdown",
      "source": [
        "You can run `do_tts.py --help` to get additonal information on what options are avalaible during voice generation."
      ],
      "metadata": {
        "id": "prfJQ91lkK3s"
      }
    },
    {
      "cell_type": "markdown",
      "source": [
        "# Making a new voice\n",
        "We'll now go through a short guided example on how to extract voice clips for creating new voice using Audacity."
      ],
      "metadata": {
        "id": "_ZQl6qjykeoZ"
      }
    },
    {
      "cell_type": "code",
      "source": [
        "!python tortoise/do_tts.py --text \"I officially endorse this as the best workshop around\" --voice donald --preset fast --candidates 1"
      ],
      "metadata": {
        "id": "uRTJEXaXV3IS"
      },
      "execution_count": null,
      "outputs": []
    }
  ]
}